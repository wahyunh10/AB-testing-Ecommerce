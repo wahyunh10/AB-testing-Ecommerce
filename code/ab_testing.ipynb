{
  "nbformat": 4,
  "nbformat_minor": 0,
  "metadata": {
    "colab": {
      "name": "ab_testing.ipynb",
      "provenance": [],
      "collapsed_sections": [],
      "authorship_tag": "ABX9TyMdOYUnw94apBRhi/QWA/fv",
      "include_colab_link": true
    },
    "kernelspec": {
      "name": "python3",
      "display_name": "Python 3"
    },
    "language_info": {
      "name": "python"
    }
  },
  "cells": [
    {
      "cell_type": "markdown",
      "metadata": {
        "id": "view-in-github",
        "colab_type": "text"
      },
      "source": [
        "<a href=\"https://colab.research.google.com/github/wahyunh10/AB-testing-Ecommerce/blob/main/ab_testing.ipynb\" target=\"_parent\"><img src=\"https://colab.research.google.com/assets/colab-badge.svg\" alt=\"Open In Colab\"/></a>"
      ]
    },
    {
      "cell_type": "markdown",
      "source": [
        "# **Analyze A/B Test Results**"
      ],
      "metadata": {
        "id": "xu2fbbbNqH3x"
      }
    },
    {
      "cell_type": "markdown",
      "source": [
        "# **Table of Contents**\n",
        "* Introduction\n",
        "* Part I - Probability\n",
        "* Part II - A/B Test\n",
        "* Part III - Regression"
      ],
      "metadata": {
        "id": "HHuFiYeWqJwF"
      }
    },
    {
      "cell_type": "markdown",
      "source": [
        "# **Introduction**\n",
        "\n",
        "A/B tests are very commonly performed by data analysts and data scientists. It is important that you get some practice working with the difficulties of these\n",
        "\n",
        "For this project, you will be working to understand the results of an A/B test run by an e-commerce website. Your goal is to work through this notebook to help the company understand if they should implement the new page, keep the old page, or perhaps run the experiment longer to make their decision."
      ],
      "metadata": {
        "id": "czStoj19qXuU"
      }
    },
    {
      "cell_type": "markdown",
      "source": [
        "# **Part I - Probability**\n",
        "To get started, let's import our libraries."
      ],
      "metadata": {
        "id": "AKMkrmRlqfqP"
      }
    },
    {
      "cell_type": "code",
      "source": [
        "import pandas as pd\n",
        "import numpy as np\n",
        "import random \n",
        "import time\n",
        "import matplotlib.pyplot as plt\n",
        "%matplotlib inline\n",
        "#We are setting the seed to assure you get the same answers on quizzes as we set up\n",
        "random.seed(42)"
      ],
      "metadata": {
        "id": "pEeFMCS-qfQs"
      },
      "execution_count": 2,
      "outputs": []
    },
    {
      "cell_type": "markdown",
      "source": [
        "a. Read in the dataset and take a look at the top few rows here:"
      ],
      "metadata": {
        "id": "2sm8iC7fq7dZ"
      }
    },
    {
      "cell_type": "code",
      "execution_count": 3,
      "metadata": {
        "colab": {
          "base_uri": "https://localhost:8080/",
          "height": 206
        },
        "id": "CvJ4-pR5pT2X",
        "outputId": "a9c30706-6886-41ce-a3b0-12ab9bc5308e"
      },
      "outputs": [
        {
          "output_type": "execute_result",
          "data": {
            "text/plain": [
              "   user_id                   timestamp      group landing_page  converted\n",
              "0   851104  2017-01-21 22:11:48.556739    control     old_page          0\n",
              "1   804228  2017-01-12 08:01:45.159739    control     old_page          0\n",
              "2   661590  2017-01-11 16:55:06.154213  treatment     new_page          0\n",
              "3   853541  2017-01-08 18:28:03.143765  treatment     new_page          0\n",
              "4   864975  2017-01-21 01:52:26.210827    control     old_page          1"
            ],
            "text/html": [
              "\n",
              "  <div id=\"df-7c9b33e4-9956-4270-a759-0d4dae763db7\">\n",
              "    <div class=\"colab-df-container\">\n",
              "      <div>\n",
              "<style scoped>\n",
              "    .dataframe tbody tr th:only-of-type {\n",
              "        vertical-align: middle;\n",
              "    }\n",
              "\n",
              "    .dataframe tbody tr th {\n",
              "        vertical-align: top;\n",
              "    }\n",
              "\n",
              "    .dataframe thead th {\n",
              "        text-align: right;\n",
              "    }\n",
              "</style>\n",
              "<table border=\"1\" class=\"dataframe\">\n",
              "  <thead>\n",
              "    <tr style=\"text-align: right;\">\n",
              "      <th></th>\n",
              "      <th>user_id</th>\n",
              "      <th>timestamp</th>\n",
              "      <th>group</th>\n",
              "      <th>landing_page</th>\n",
              "      <th>converted</th>\n",
              "    </tr>\n",
              "  </thead>\n",
              "  <tbody>\n",
              "    <tr>\n",
              "      <th>0</th>\n",
              "      <td>851104</td>\n",
              "      <td>2017-01-21 22:11:48.556739</td>\n",
              "      <td>control</td>\n",
              "      <td>old_page</td>\n",
              "      <td>0</td>\n",
              "    </tr>\n",
              "    <tr>\n",
              "      <th>1</th>\n",
              "      <td>804228</td>\n",
              "      <td>2017-01-12 08:01:45.159739</td>\n",
              "      <td>control</td>\n",
              "      <td>old_page</td>\n",
              "      <td>0</td>\n",
              "    </tr>\n",
              "    <tr>\n",
              "      <th>2</th>\n",
              "      <td>661590</td>\n",
              "      <td>2017-01-11 16:55:06.154213</td>\n",
              "      <td>treatment</td>\n",
              "      <td>new_page</td>\n",
              "      <td>0</td>\n",
              "    </tr>\n",
              "    <tr>\n",
              "      <th>3</th>\n",
              "      <td>853541</td>\n",
              "      <td>2017-01-08 18:28:03.143765</td>\n",
              "      <td>treatment</td>\n",
              "      <td>new_page</td>\n",
              "      <td>0</td>\n",
              "    </tr>\n",
              "    <tr>\n",
              "      <th>4</th>\n",
              "      <td>864975</td>\n",
              "      <td>2017-01-21 01:52:26.210827</td>\n",
              "      <td>control</td>\n",
              "      <td>old_page</td>\n",
              "      <td>1</td>\n",
              "    </tr>\n",
              "  </tbody>\n",
              "</table>\n",
              "</div>\n",
              "      <button class=\"colab-df-convert\" onclick=\"convertToInteractive('df-7c9b33e4-9956-4270-a759-0d4dae763db7')\"\n",
              "              title=\"Convert this dataframe to an interactive table.\"\n",
              "              style=\"display:none;\">\n",
              "        \n",
              "  <svg xmlns=\"http://www.w3.org/2000/svg\" height=\"24px\"viewBox=\"0 0 24 24\"\n",
              "       width=\"24px\">\n",
              "    <path d=\"M0 0h24v24H0V0z\" fill=\"none\"/>\n",
              "    <path d=\"M18.56 5.44l.94 2.06.94-2.06 2.06-.94-2.06-.94-.94-2.06-.94 2.06-2.06.94zm-11 1L8.5 8.5l.94-2.06 2.06-.94-2.06-.94L8.5 2.5l-.94 2.06-2.06.94zm10 10l.94 2.06.94-2.06 2.06-.94-2.06-.94-.94-2.06-.94 2.06-2.06.94z\"/><path d=\"M17.41 7.96l-1.37-1.37c-.4-.4-.92-.59-1.43-.59-.52 0-1.04.2-1.43.59L10.3 9.45l-7.72 7.72c-.78.78-.78 2.05 0 2.83L4 21.41c.39.39.9.59 1.41.59.51 0 1.02-.2 1.41-.59l7.78-7.78 2.81-2.81c.8-.78.8-2.07 0-2.86zM5.41 20L4 18.59l7.72-7.72 1.47 1.35L5.41 20z\"/>\n",
              "  </svg>\n",
              "      </button>\n",
              "      \n",
              "  <style>\n",
              "    .colab-df-container {\n",
              "      display:flex;\n",
              "      flex-wrap:wrap;\n",
              "      gap: 12px;\n",
              "    }\n",
              "\n",
              "    .colab-df-convert {\n",
              "      background-color: #E8F0FE;\n",
              "      border: none;\n",
              "      border-radius: 50%;\n",
              "      cursor: pointer;\n",
              "      display: none;\n",
              "      fill: #1967D2;\n",
              "      height: 32px;\n",
              "      padding: 0 0 0 0;\n",
              "      width: 32px;\n",
              "    }\n",
              "\n",
              "    .colab-df-convert:hover {\n",
              "      background-color: #E2EBFA;\n",
              "      box-shadow: 0px 1px 2px rgba(60, 64, 67, 0.3), 0px 1px 3px 1px rgba(60, 64, 67, 0.15);\n",
              "      fill: #174EA6;\n",
              "    }\n",
              "\n",
              "    [theme=dark] .colab-df-convert {\n",
              "      background-color: #3B4455;\n",
              "      fill: #D2E3FC;\n",
              "    }\n",
              "\n",
              "    [theme=dark] .colab-df-convert:hover {\n",
              "      background-color: #434B5C;\n",
              "      box-shadow: 0px 1px 3px 1px rgba(0, 0, 0, 0.15);\n",
              "      filter: drop-shadow(0px 1px 2px rgba(0, 0, 0, 0.3));\n",
              "      fill: #FFFFFF;\n",
              "    }\n",
              "  </style>\n",
              "\n",
              "      <script>\n",
              "        const buttonEl =\n",
              "          document.querySelector('#df-7c9b33e4-9956-4270-a759-0d4dae763db7 button.colab-df-convert');\n",
              "        buttonEl.style.display =\n",
              "          google.colab.kernel.accessAllowed ? 'block' : 'none';\n",
              "\n",
              "        async function convertToInteractive(key) {\n",
              "          const element = document.querySelector('#df-7c9b33e4-9956-4270-a759-0d4dae763db7');\n",
              "          const dataTable =\n",
              "            await google.colab.kernel.invokeFunction('convertToInteractive',\n",
              "                                                     [key], {});\n",
              "          if (!dataTable) return;\n",
              "\n",
              "          const docLinkHtml = 'Like what you see? Visit the ' +\n",
              "            '<a target=\"_blank\" href=https://colab.research.google.com/notebooks/data_table.ipynb>data table notebook</a>'\n",
              "            + ' to learn more about interactive tables.';\n",
              "          element.innerHTML = '';\n",
              "          dataTable['output_type'] = 'display_data';\n",
              "          await google.colab.output.renderOutput(dataTable, element);\n",
              "          const docLink = document.createElement('div');\n",
              "          docLink.innerHTML = docLinkHtml;\n",
              "          element.appendChild(docLink);\n",
              "        }\n",
              "      </script>\n",
              "    </div>\n",
              "  </div>\n",
              "  "
            ]
          },
          "metadata": {},
          "execution_count": 3
        }
      ],
      "source": [
        "#reading the dataset\n",
        "df = pd.read_csv('ab_testing_data.csv')\n",
        "df.head()"
      ]
    },
    {
      "cell_type": "markdown",
      "source": [
        "b. Use the cell below to find the number of rows in the dataset."
      ],
      "metadata": {
        "id": "OpDA_0G-sGsX"
      }
    },
    {
      "cell_type": "code",
      "source": [
        "#Number of rows\n",
        "df.shape[0]"
      ],
      "metadata": {
        "colab": {
          "base_uri": "https://localhost:8080/"
        },
        "id": "GvE4qIexsIje",
        "outputId": "64be6c1e-1d0c-4a74-cd0a-98b7c5d15e8c"
      },
      "execution_count": 4,
      "outputs": [
        {
          "output_type": "execute_result",
          "data": {
            "text/plain": [
              "294478"
            ]
          },
          "metadata": {},
          "execution_count": 4
        }
      ]
    },
    {
      "cell_type": "markdown",
      "source": [
        "c. The number of unique users in the dataset."
      ],
      "metadata": {
        "id": "zAatSbYGsLKB"
      }
    },
    {
      "cell_type": "code",
      "source": [
        "#Number of unique users\n",
        "df['user_id'].nunique()"
      ],
      "metadata": {
        "colab": {
          "base_uri": "https://localhost:8080/"
        },
        "id": "uddAdhaHsL_V",
        "outputId": "ffa6d5e1-bd5d-4541-89c5-7746bced5360"
      },
      "execution_count": 5,
      "outputs": [
        {
          "output_type": "execute_result",
          "data": {
            "text/plain": [
              "290584"
            ]
          },
          "metadata": {},
          "execution_count": 5
        }
      ]
    },
    {
      "cell_type": "markdown",
      "source": [
        "d. The proportion of users converted."
      ],
      "metadata": {
        "id": "txkXYDHotE2Z"
      }
    },
    {
      "cell_type": "code",
      "source": [
        "#Proportion of users converted\n",
        "len(df[df['converted'] ==1]) / df['user_id'].nunique()"
      ],
      "metadata": {
        "colab": {
          "base_uri": "https://localhost:8080/"
        },
        "id": "97LnjiuhtGvE",
        "outputId": "fd671512-6813-4fa5-e561-a4eda06f3cf0"
      },
      "execution_count": 6,
      "outputs": [
        {
          "output_type": "execute_result",
          "data": {
            "text/plain": [
              "0.12126269856564711"
            ]
          },
          "metadata": {},
          "execution_count": 6
        }
      ]
    },
    {
      "cell_type": "markdown",
      "source": [
        "e. The number of times the new_page and treatment don't match."
      ],
      "metadata": {
        "id": "gcPNYiYptJd-"
      }
    },
    {
      "cell_type": "code",
      "source": [
        "#Number of rows that follows:\n",
        "#When group is treatment but landing_page is not new_page,\n",
        "#When group is not treatment but landing_page is new_page\n",
        "df2 = df.query('(group == \"treatment\" & landing_page != \"new_page\") or (group != \"treatment\" & landing_page == \"new_page\")')\n",
        "df2.shape[0]"
      ],
      "metadata": {
        "colab": {
          "base_uri": "https://localhost:8080/"
        },
        "id": "2TLkLk8DtLNU",
        "outputId": "3d06edca-d69c-4b51-cefe-8cabf01d572a"
      },
      "execution_count": 7,
      "outputs": [
        {
          "output_type": "execute_result",
          "data": {
            "text/plain": [
              "3893"
            ]
          },
          "metadata": {},
          "execution_count": 7
        }
      ]
    },
    {
      "cell_type": "markdown",
      "source": [
        "f. Do any of the rows have missing values?"
      ],
      "metadata": {
        "id": "61U6lAkOtNsl"
      }
    },
    {
      "cell_type": "code",
      "source": [
        "#Checking data for Null Values\n",
        "df.info()"
      ],
      "metadata": {
        "colab": {
          "base_uri": "https://localhost:8080/"
        },
        "id": "qeT5wi5FtPF1",
        "outputId": "b4afcf92-4340-4bfe-a72c-33611181e2e4"
      },
      "execution_count": 8,
      "outputs": [
        {
          "output_type": "stream",
          "name": "stdout",
          "text": [
            "<class 'pandas.core.frame.DataFrame'>\n",
            "RangeIndex: 294478 entries, 0 to 294477\n",
            "Data columns (total 5 columns):\n",
            " #   Column        Non-Null Count   Dtype \n",
            "---  ------        --------------   ----- \n",
            " 0   user_id       294478 non-null  int64 \n",
            " 1   timestamp     294478 non-null  object\n",
            " 2   group         294478 non-null  object\n",
            " 3   landing_page  294478 non-null  object\n",
            " 4   converted     294478 non-null  int64 \n",
            "dtypes: int64(2), object(3)\n",
            "memory usage: 11.2+ MB\n"
          ]
        }
      ]
    },
    {
      "cell_type": "markdown",
      "source": [
        "a. Now use the answer to the quiz to create a new dataset that meets the specifications from the quiz. Store your new dataframe in df2."
      ],
      "metadata": {
        "id": "5-driIxetTv3"
      }
    },
    {
      "cell_type": "code",
      "source": [
        "#Dropping rows that may have wrong information\n",
        "df2 = df.drop(df.query('(group == \"treatment\" & landing_page != \"new_page\") or (group != \"treatment\" & landing_page == \"new_page\")').index)"
      ],
      "metadata": {
        "id": "7uEZ3sRQtPPR"
      },
      "execution_count": 9,
      "outputs": []
    },
    {
      "cell_type": "code",
      "source": [
        "#Double Check all of the correct rows were removed - this should be 0\n",
        "df2[((df2['group'] == 'treatment') == (df2['landing_page'] == 'new_page')) == False].shape[0]"
      ],
      "metadata": {
        "colab": {
          "base_uri": "https://localhost:8080/"
        },
        "id": "EL0QkDfhtY4h",
        "outputId": "85b3c921-7965-46a6-ab3c-415f2366b2c7"
      },
      "execution_count": 10,
      "outputs": [
        {
          "output_type": "execute_result",
          "data": {
            "text/plain": [
              "0"
            ]
          },
          "metadata": {},
          "execution_count": 10
        }
      ]
    },
    {
      "cell_type": "markdown",
      "source": [
        "a. How many **unique user_ids** are in **df2**?"
      ],
      "metadata": {
        "id": "4g0iLPNftck_"
      }
    },
    {
      "cell_type": "code",
      "source": [
        "#Unique users in the new dataframe\n",
        "df2.user_id.nunique()"
      ],
      "metadata": {
        "colab": {
          "base_uri": "https://localhost:8080/"
        },
        "id": "J0wy3yMbtXLT",
        "outputId": "f3c16ba2-698d-4d0a-9ddc-1775d3c6d945"
      },
      "execution_count": 11,
      "outputs": [
        {
          "output_type": "execute_result",
          "data": {
            "text/plain": [
              "290584"
            ]
          },
          "metadata": {},
          "execution_count": 11
        }
      ]
    },
    {
      "cell_type": "markdown",
      "source": [
        "b. There is **one user_id** repeated in **df2**. What is it?"
      ],
      "metadata": {
        "id": "3tIBkZGhtgdM"
      }
    },
    {
      "cell_type": "code",
      "source": [
        "#Duplicated user\n",
        "df2[df2.duplicated(['user_id'])]['user_id']"
      ],
      "metadata": {
        "colab": {
          "base_uri": "https://localhost:8080/"
        },
        "id": "yd-SBxCNttYt",
        "outputId": "5ad479ab-3dff-4ad1-e6f4-315de20dcd3f"
      },
      "execution_count": 12,
      "outputs": [
        {
          "output_type": "execute_result",
          "data": {
            "text/plain": [
              "2893    773192\n",
              "Name: user_id, dtype: int64"
            ]
          },
          "metadata": {},
          "execution_count": 12
        }
      ]
    },
    {
      "cell_type": "markdown",
      "source": [
        "c. What is the row information for the **repeat user_id**?"
      ],
      "metadata": {
        "id": "gMRi9whUvrlr"
      }
    },
    {
      "cell_type": "code",
      "source": [
        "#Row of the duplicated user_id\n",
        "df2[df2['user_id'].duplicated() == True]"
      ],
      "metadata": {
        "colab": {
          "base_uri": "https://localhost:8080/",
          "height": 81
        },
        "id": "YtIu_Aswvs88",
        "outputId": "b5344bbe-00b0-41e5-ee8a-64d815809bf4"
      },
      "execution_count": 13,
      "outputs": [
        {
          "output_type": "execute_result",
          "data": {
            "text/plain": [
              "      user_id                   timestamp      group landing_page  converted\n",
              "2893   773192  2017-01-14 02:55:59.590927  treatment     new_page          0"
            ],
            "text/html": [
              "\n",
              "  <div id=\"df-21485f75-6e18-459f-a015-6e8fdf268c7a\">\n",
              "    <div class=\"colab-df-container\">\n",
              "      <div>\n",
              "<style scoped>\n",
              "    .dataframe tbody tr th:only-of-type {\n",
              "        vertical-align: middle;\n",
              "    }\n",
              "\n",
              "    .dataframe tbody tr th {\n",
              "        vertical-align: top;\n",
              "    }\n",
              "\n",
              "    .dataframe thead th {\n",
              "        text-align: right;\n",
              "    }\n",
              "</style>\n",
              "<table border=\"1\" class=\"dataframe\">\n",
              "  <thead>\n",
              "    <tr style=\"text-align: right;\">\n",
              "      <th></th>\n",
              "      <th>user_id</th>\n",
              "      <th>timestamp</th>\n",
              "      <th>group</th>\n",
              "      <th>landing_page</th>\n",
              "      <th>converted</th>\n",
              "    </tr>\n",
              "  </thead>\n",
              "  <tbody>\n",
              "    <tr>\n",
              "      <th>2893</th>\n",
              "      <td>773192</td>\n",
              "      <td>2017-01-14 02:55:59.590927</td>\n",
              "      <td>treatment</td>\n",
              "      <td>new_page</td>\n",
              "      <td>0</td>\n",
              "    </tr>\n",
              "  </tbody>\n",
              "</table>\n",
              "</div>\n",
              "      <button class=\"colab-df-convert\" onclick=\"convertToInteractive('df-21485f75-6e18-459f-a015-6e8fdf268c7a')\"\n",
              "              title=\"Convert this dataframe to an interactive table.\"\n",
              "              style=\"display:none;\">\n",
              "        \n",
              "  <svg xmlns=\"http://www.w3.org/2000/svg\" height=\"24px\"viewBox=\"0 0 24 24\"\n",
              "       width=\"24px\">\n",
              "    <path d=\"M0 0h24v24H0V0z\" fill=\"none\"/>\n",
              "    <path d=\"M18.56 5.44l.94 2.06.94-2.06 2.06-.94-2.06-.94-.94-2.06-.94 2.06-2.06.94zm-11 1L8.5 8.5l.94-2.06 2.06-.94-2.06-.94L8.5 2.5l-.94 2.06-2.06.94zm10 10l.94 2.06.94-2.06 2.06-.94-2.06-.94-.94-2.06-.94 2.06-2.06.94z\"/><path d=\"M17.41 7.96l-1.37-1.37c-.4-.4-.92-.59-1.43-.59-.52 0-1.04.2-1.43.59L10.3 9.45l-7.72 7.72c-.78.78-.78 2.05 0 2.83L4 21.41c.39.39.9.59 1.41.59.51 0 1.02-.2 1.41-.59l7.78-7.78 2.81-2.81c.8-.78.8-2.07 0-2.86zM5.41 20L4 18.59l7.72-7.72 1.47 1.35L5.41 20z\"/>\n",
              "  </svg>\n",
              "      </button>\n",
              "      \n",
              "  <style>\n",
              "    .colab-df-container {\n",
              "      display:flex;\n",
              "      flex-wrap:wrap;\n",
              "      gap: 12px;\n",
              "    }\n",
              "\n",
              "    .colab-df-convert {\n",
              "      background-color: #E8F0FE;\n",
              "      border: none;\n",
              "      border-radius: 50%;\n",
              "      cursor: pointer;\n",
              "      display: none;\n",
              "      fill: #1967D2;\n",
              "      height: 32px;\n",
              "      padding: 0 0 0 0;\n",
              "      width: 32px;\n",
              "    }\n",
              "\n",
              "    .colab-df-convert:hover {\n",
              "      background-color: #E2EBFA;\n",
              "      box-shadow: 0px 1px 2px rgba(60, 64, 67, 0.3), 0px 1px 3px 1px rgba(60, 64, 67, 0.15);\n",
              "      fill: #174EA6;\n",
              "    }\n",
              "\n",
              "    [theme=dark] .colab-df-convert {\n",
              "      background-color: #3B4455;\n",
              "      fill: #D2E3FC;\n",
              "    }\n",
              "\n",
              "    [theme=dark] .colab-df-convert:hover {\n",
              "      background-color: #434B5C;\n",
              "      box-shadow: 0px 1px 3px 1px rgba(0, 0, 0, 0.15);\n",
              "      filter: drop-shadow(0px 1px 2px rgba(0, 0, 0, 0.3));\n",
              "      fill: #FFFFFF;\n",
              "    }\n",
              "  </style>\n",
              "\n",
              "      <script>\n",
              "        const buttonEl =\n",
              "          document.querySelector('#df-21485f75-6e18-459f-a015-6e8fdf268c7a button.colab-df-convert');\n",
              "        buttonEl.style.display =\n",
              "          google.colab.kernel.accessAllowed ? 'block' : 'none';\n",
              "\n",
              "        async function convertToInteractive(key) {\n",
              "          const element = document.querySelector('#df-21485f75-6e18-459f-a015-6e8fdf268c7a');\n",
              "          const dataTable =\n",
              "            await google.colab.kernel.invokeFunction('convertToInteractive',\n",
              "                                                     [key], {});\n",
              "          if (!dataTable) return;\n",
              "\n",
              "          const docLinkHtml = 'Like what you see? Visit the ' +\n",
              "            '<a target=\"_blank\" href=https://colab.research.google.com/notebooks/data_table.ipynb>data table notebook</a>'\n",
              "            + ' to learn more about interactive tables.';\n",
              "          element.innerHTML = '';\n",
              "          dataTable['output_type'] = 'display_data';\n",
              "          await google.colab.output.renderOutput(dataTable, element);\n",
              "          const docLink = document.createElement('div');\n",
              "          docLink.innerHTML = docLinkHtml;\n",
              "          element.appendChild(docLink);\n",
              "        }\n",
              "      </script>\n",
              "    </div>\n",
              "  </div>\n",
              "  "
            ]
          },
          "metadata": {},
          "execution_count": 13
        }
      ]
    },
    {
      "cell_type": "markdown",
      "source": [
        "d. **Remove one** of the rows with a duplicate **user_id**, but keep your dataframe as **df2**."
      ],
      "metadata": {
        "id": "PMIfYtMkvvPr"
      }
    },
    {
      "cell_type": "code",
      "source": [
        "#Dropping duplicated user_id\n",
        "df2 = df2.drop(index=2893)"
      ],
      "metadata": {
        "id": "qgBMknwqv8jj"
      },
      "execution_count": 14,
      "outputs": []
    },
    {
      "cell_type": "markdown",
      "source": [
        "a. What is the probability of an individual converting regardless of the page they receive?"
      ],
      "metadata": {
        "id": "ee68fVhIv5bv"
      }
    },
    {
      "cell_type": "code",
      "source": [
        "#Probability of converting regardless of the page\n",
        "len(df2[df2['converted'] ==1]) / df2['user_id'].nunique()"
      ],
      "metadata": {
        "colab": {
          "base_uri": "https://localhost:8080/"
        },
        "id": "nTTa9IZmwDaW",
        "outputId": "9d99e4b5-fe6b-4f09-8367-5f93fb259a82"
      },
      "execution_count": 15,
      "outputs": [
        {
          "output_type": "execute_result",
          "data": {
            "text/plain": [
              "0.11959708724499628"
            ]
          },
          "metadata": {},
          "execution_count": 15
        }
      ]
    },
    {
      "cell_type": "markdown",
      "source": [
        "b. Given that an individual was in the control group, what is the probability they converted?"
      ],
      "metadata": {
        "id": "UhVSI0YfwGfs"
      }
    },
    {
      "cell_type": "code",
      "source": [
        "#Probability of converting when group is control\n",
        "len(df2.query('group == \"control\" & converted == 1')) / len(df2.query('group == \"control\"'))"
      ],
      "metadata": {
        "colab": {
          "base_uri": "https://localhost:8080/"
        },
        "id": "_vQoOr7nwFRn",
        "outputId": "fa60c705-6251-4b2a-949b-d02cac239b0d"
      },
      "execution_count": 16,
      "outputs": [
        {
          "output_type": "execute_result",
          "data": {
            "text/plain": [
              "0.1203863045004612"
            ]
          },
          "metadata": {},
          "execution_count": 16
        }
      ]
    },
    {
      "cell_type": "markdown",
      "source": [
        "c. Given that an individual was in the treatment group, what is the probability they converted?"
      ],
      "metadata": {
        "id": "r6ETgWGUwLR4"
      }
    },
    {
      "cell_type": "code",
      "source": [
        "#Probability of converting when group is treatment\n",
        "len(df2.query('group == \"treatment\" & converted == 1')) / len(df2.query('group == \"treatment\"'))"
      ],
      "metadata": {
        "colab": {
          "base_uri": "https://localhost:8080/"
        },
        "id": "pItPBSd1wLoG",
        "outputId": "a0bebc08-76df-4dce-d52f-831b7744b0a3"
      },
      "execution_count": 17,
      "outputs": [
        {
          "output_type": "execute_result",
          "data": {
            "text/plain": [
              "0.11880806551510564"
            ]
          },
          "metadata": {},
          "execution_count": 17
        }
      ]
    },
    {
      "cell_type": "markdown",
      "source": [
        "d. What is the probability that an individual received the new page?"
      ],
      "metadata": {
        "id": "EMKMIHqawQGM"
      }
    },
    {
      "cell_type": "code",
      "source": [
        "#Probability of landing on the new page\n",
        "len(df2.query('landing_page == \"new_page\"')) / df2.shape[0]"
      ],
      "metadata": {
        "colab": {
          "base_uri": "https://localhost:8080/"
        },
        "id": "CmydkKDdwRo7",
        "outputId": "38d67e31-b2c4-4643-92f5-11b8a623b88b"
      },
      "execution_count": 18,
      "outputs": [
        {
          "output_type": "execute_result",
          "data": {
            "text/plain": [
              "0.5000619442226688"
            ]
          },
          "metadata": {},
          "execution_count": 18
        }
      ]
    },
    {
      "cell_type": "markdown",
      "source": [
        "e. Consider your results from parts (a) through (d) above, and explain below whether you think there is sufficient evidence to conclude that the new treatment page leads to more conversions.\n",
        "\n",
        "**There is no sufficient evidence prove that new treatment page leads more conversions as questions 'B' & 'C' clarify that Old control page has slightly higher conversion rate.**"
      ],
      "metadata": {
        "id": "d3NN8lOKwVgO"
      }
    },
    {
      "cell_type": "markdown",
      "source": [
        "# **Part II - A/B Test**"
      ],
      "metadata": {
        "id": "yghDqAGbwaVo"
      }
    },
    {
      "cell_type": "markdown",
      "source": [
        "Notice that because of the time stamp associated with each event, you could technically run a hypothesis test continuously as each observation was observed.\n",
        "\n",
        "However, then the hard question is do you stop as soon as one page is considered significantly better than another or does it need to happen consistently for a certain amount of time? How long do you run to render a decision that neither page is better than another?\n",
        "\n",
        "These questions are the difficult parts associated with A/B tests in general.\n",
        "\n",
        "1. For now, consider you need to make the decision just based on all the data provided. If you want to assume that the old page is better unless the new page proves to be definitely better at a Type I error rate of 5%, what should your null and alternative hypotheses be? You can state your hypothesis in terms of words or in terms of  and , which are the converted rates for the old and new pages."
      ],
      "metadata": {
        "id": "_mtGrXptwkGI"
      }
    },
    {
      "cell_type": "markdown",
      "source": [
        "**Null Hypotheses:**\n",
        "\n",
        "Old page is better than or equal new page\n",
        "\n",
        "**P_𝑜𝑙𝑑 >= P_𝑛𝑒𝑤**\n"
      ],
      "metadata": {
        "id": "K92NEnHMwpJW"
      }
    },
    {
      "cell_type": "markdown",
      "source": [
        "**Alternative Hypotheses:**\n",
        "\n",
        "Old page is worse than new page\n",
        "\n",
        "**P_𝑜𝑙𝑑 < P_𝑛𝑒𝑤**"
      ],
      "metadata": {
        "id": "Mvg8Abn2w_G-"
      }
    },
    {
      "cell_type": "markdown",
      "source": [
        "2. Assume under the null hypothesis, P_𝑛𝑒𝑤 and P_𝑜𝑙𝑑  both have \"true\" success rates equal to the converted success rate regardless of page - that is P_𝑛𝑒𝑤  and P_𝑜𝑙𝑑  are equal. Furthermore, assume they are equal to the converted rate in ab_testing_data.csv regardless of the page."
      ],
      "metadata": {
        "id": "1WZQ0QssxBOc"
      }
    },
    {
      "cell_type": "markdown",
      "source": [
        "Use a sample size for each page equal to the ones in ab_testing_data.csv."
      ],
      "metadata": {
        "id": "ekgTeCmh1BYs"
      }
    },
    {
      "cell_type": "markdown",
      "source": [
        "Perform the sampling distribution for the difference in converted between the two pages over 10,000 iterations of calculating an estimate from the null."
      ],
      "metadata": {
        "id": "hgyd84Tk1F8J"
      }
    },
    {
      "cell_type": "markdown",
      "source": [
        "Use the cells below to provide the necessary parts of this simulation. If this doesn't make complete sense right now, don't worry - you are going to work through the problems below to complete this problem. You can use Quiz 5 in the classroom to make sure you are on the right track."
      ],
      "metadata": {
        "id": "kha3d7-p1JPw"
      }
    },
    {
      "cell_type": "markdown",
      "source": [
        "a. What is the **conversion rate for P_𝑛𝑒𝑤** under the null?"
      ],
      "metadata": {
        "id": "z20WZ5aa1LTo"
      }
    },
    {
      "cell_type": "code",
      "source": [
        "#Conversuin of P_new rate under null\n",
        "p_new = len(df2.query('converted == 1 '))/df['user_id'].nunique()\n",
        "p_new"
      ],
      "metadata": {
        "colab": {
          "base_uri": "https://localhost:8080/"
        },
        "id": "bp9Cp4qN1RsP",
        "outputId": "8b26b310-0e26-41bc-85b2-fb38dbd8d285"
      },
      "execution_count": 19,
      "outputs": [
        {
          "output_type": "execute_result",
          "data": {
            "text/plain": [
              "0.11959708724499628"
            ]
          },
          "metadata": {},
          "execution_count": 19
        }
      ]
    },
    {
      "cell_type": "markdown",
      "source": [
        "b. What is the **conversion rate for P_𝑜𝑙𝑑** under the null?"
      ],
      "metadata": {
        "id": "97AttrAk1UP9"
      }
    },
    {
      "cell_type": "code",
      "source": [
        "#Conversuin of P_old rate under null\n",
        "p_old = len(df2.query('converted == 1 '))/df['user_id'].nunique()\n",
        "p_old"
      ],
      "metadata": {
        "colab": {
          "base_uri": "https://localhost:8080/"
        },
        "id": "S1nbq-Rc7CQZ",
        "outputId": "71835e4b-8a15-4e78-b43b-95915bbc8e78"
      },
      "execution_count": 20,
      "outputs": [
        {
          "output_type": "execute_result",
          "data": {
            "text/plain": [
              "0.11959708724499628"
            ]
          },
          "metadata": {},
          "execution_count": 20
        }
      ]
    },
    {
      "cell_type": "markdown",
      "source": [
        "c. What is *n_new* the number of individuals in the treatment group?"
      ],
      "metadata": {
        "id": "yaB6ry7n7Gnh"
      }
    },
    {
      "cell_type": "code",
      "source": [
        "#Number of individulas in the treatment group\n",
        "n_new = df2.query('group == \"treatment\" &landing_page == \"new_page\"')['user_id'].nunique()\n",
        "n_new"
      ],
      "metadata": {
        "colab": {
          "base_uri": "https://localhost:8080/"
        },
        "id": "vjhVhwqp7I1K",
        "outputId": "453713cb-7daa-4671-d35a-20b87393f708"
      },
      "execution_count": 21,
      "outputs": [
        {
          "output_type": "execute_result",
          "data": {
            "text/plain": [
              "145310"
            ]
          },
          "metadata": {},
          "execution_count": 21
        }
      ]
    },
    {
      "cell_type": "markdown",
      "source": [
        "d. What is *n_new*  the number of individuals in the control group?"
      ],
      "metadata": {
        "id": "W3Ddv7HM_dE3"
      }
    },
    {
      "cell_type": "code",
      "source": [
        "#Number of individuals in the control group\n",
        "n_old = df2.query('group == \"control\" & landing_page == \"old_page\"')['user_id'].nunique()\n",
        "n_old"
      ],
      "metadata": {
        "colab": {
          "base_uri": "https://localhost:8080/"
        },
        "id": "Ivj3dinc_ix4",
        "outputId": "c6691636-9e7b-463b-f4dd-fb5ce7392a12"
      },
      "execution_count": 22,
      "outputs": [
        {
          "output_type": "execute_result",
          "data": {
            "text/plain": [
              "145274"
            ]
          },
          "metadata": {},
          "execution_count": 22
        }
      ]
    },
    {
      "cell_type": "markdown",
      "source": [
        "e. Simulate *n_new* transactions with a conversion rate of  P_𝑛𝑒𝑤 under the null. Store these  1's and 0's in **new_page_converted**."
      ],
      "metadata": {
        "id": "CLIlVpuF_mad"
      }
    },
    {
      "cell_type": "code",
      "source": [
        "#Simulating the conversion rate of the new page uner null\n",
        "new_page_converted = np.random.choice([0,1],size= n_new,p=(p_new,1-p_new))\n",
        "new_page_converted.mean()"
      ],
      "metadata": {
        "colab": {
          "base_uri": "https://localhost:8080/"
        },
        "id": "XPB7OBP6_xyl",
        "outputId": "c6f908af-375a-4ea0-fdfb-28fcf07b3bad"
      },
      "execution_count": 23,
      "outputs": [
        {
          "output_type": "execute_result",
          "data": {
            "text/plain": [
              "0.8812332255178583"
            ]
          },
          "metadata": {},
          "execution_count": 23
        }
      ]
    },
    {
      "cell_type": "markdown",
      "source": [
        "f. Simulate *n_old* transactions with a conversion rate of  P_𝑜𝑙𝑑 under the null. Store these *n_old* 1's and 0's in **old_page_converted**."
      ],
      "metadata": {
        "id": "0BDe2e8-_9x5"
      }
    },
    {
      "cell_type": "code",
      "source": [
        "#Simulating the conversion rate of the old page uner null\n",
        "old_page_converted = np.random.choice([0,1],size= n_old,p=(p_old,1-p_old))\n",
        "old_page_converted.mean()"
      ],
      "metadata": {
        "colab": {
          "base_uri": "https://localhost:8080/"
        },
        "id": "ZyXxheiwANVY",
        "outputId": "a15a51d6-02e8-48c8-90a0-fe37a23fcfae"
      },
      "execution_count": 24,
      "outputs": [
        {
          "output_type": "execute_result",
          "data": {
            "text/plain": [
              "0.8821812574858543"
            ]
          },
          "metadata": {},
          "execution_count": 24
        }
      ]
    },
    {
      "cell_type": "markdown",
      "source": [
        "g. Find P_𝑛𝑒𝑤 - P_𝑜𝑙𝑑  for your simulated values from part (e) and (f)."
      ],
      "metadata": {
        "id": "reqO8BjjAXCh"
      }
    },
    {
      "cell_type": "code",
      "source": [
        "#Difference between conversion rates of new and old pages\n",
        "diff = new_page_converted.mean() - old_page_converted.mean()\n",
        "diff"
      ],
      "metadata": {
        "colab": {
          "base_uri": "https://localhost:8080/"
        },
        "id": "d2Hf-idkAm0p",
        "outputId": "e620adf3-91ea-43b4-f127-68d9a55149b0"
      },
      "execution_count": 25,
      "outputs": [
        {
          "output_type": "execute_result",
          "data": {
            "text/plain": [
              "-0.000948031967995977"
            ]
          },
          "metadata": {},
          "execution_count": 25
        }
      ]
    },
    {
      "cell_type": "markdown",
      "source": [
        "h. Create 10,000 P_𝑛𝑒𝑤 - P_𝑜𝑙𝑑 values using the same simulation process you used in parts (a) through (g) above. Store all 10,000 values in a NumPy array called **p_diffs**."
      ],
      "metadata": {
        "id": "PjG53nQuAqJR"
      }
    },
    {
      "cell_type": "code",
      "source": [
        "#Creating 10,000 values of the difference between simulation of new & old pages conversion rates\n",
        "p_diffs = []\n",
        "new_converted_simulation = np.random.binomial(n_new, p_new, 10000)/n_new \n",
        "old_converted_simulation = np.random.binomial(n_old, p_old, 10000)/n_old \n",
        "p_diffs = new_converted_simulation - old_converted_simulation"
      ],
      "metadata": {
        "id": "Fs8cySqIAxUs"
      },
      "execution_count": 26,
      "outputs": []
    },
    {
      "cell_type": "markdown",
      "source": [
        "i. Plot a histogram of the **p_diffs**. Does this plot look like what you expected? Use the matching problem in the classroom to assure you fully understand what was computed here."
      ],
      "metadata": {
        "id": "SVTNcViYBEoC"
      }
    },
    {
      "cell_type": "code",
      "source": [
        "#Displaying histogram of the results\n",
        "plt.hist(p_diffs);"
      ],
      "metadata": {
        "colab": {
          "base_uri": "https://localhost:8080/",
          "height": 265
        },
        "id": "dFOGHZdZBGz3",
        "outputId": "2131c4ce-8ae1-4570-f065-b9bfbb6fddd2"
      },
      "execution_count": 27,
      "outputs": [
        {
          "output_type": "display_data",
          "data": {
            "text/plain": [
              "<Figure size 432x288 with 1 Axes>"
            ],
            "image/png": "[encoded data removed]"
          },
          "metadata": {
            "needs_background": "light"
          }
        }
      ]
    },
    {
      "cell_type": "markdown",
      "source": [
        "j. What proportion of the **p_diffs** are greater than the actual difference observed in **ab_testing_data.csv**?"
      ],
      "metadata": {
        "id": "X8yrNn1fBLf3"
      }
    },
    {
      "cell_type": "code",
      "source": [
        "#The actual difference in the dataset\n",
        "new_conversion = df2.query('landing_page == \"new_page\" & converted == 1')['user_id'].nunique()/n_new\n",
        "old_conversion = df2.query('landing_page == \"old_page\" & converted == 1')['user_id'].nunique()/n_old\n",
        "differ = new_conversion - old_conversion\n",
        "\n",
        "#proportion of the **p_diffs** that are greater than the actual difference  \n",
        "x = [value for value in p_diffs if value > differ]\n",
        "prop = len(x)/len(p_diffs)\n",
        "prop"
      ],
      "metadata": {
        "colab": {
          "base_uri": "https://localhost:8080/"
        },
        "id": "zIIasCYhBLMd",
        "outputId": "9f439f35-0613-4ffe-8be2-42b4b9fae401"
      },
      "execution_count": 28,
      "outputs": [
        {
          "output_type": "execute_result",
          "data": {
            "text/plain": [
              "0.9055"
            ]
          },
          "metadata": {},
          "execution_count": 28
        }
      ]
    },
    {
      "cell_type": "markdown",
      "source": [
        "k. Please explain using the vocabulary you've learned in this course what you just computed in part j. What is this value called in scientific studies? What does this value mean in terms of whether or not there is a difference between the new and old pages?"
      ],
      "metadata": {
        "id": "AsO1u9J0BVgL"
      }
    },
    {
      "cell_type": "markdown",
      "source": [
        "**While P-value > α, We fail to reject null hypothesis.**"
      ],
      "metadata": {
        "id": "z9bHkgdUBXY2"
      }
    },
    {
      "cell_type": "markdown",
      "source": [
        "l. We could also use a built-in to achieve similar results. Though using the built-in might be easier to code, the above portions are a walkthrough of the ideas that are critical to correctly thinking about statistical significance. Fill in the below to calculate the number of conversions for each page, as well as the number of individuals who received each page. Let n_old and n_new refer the the number of rows associated with the old page and new pages, respectively."
      ],
      "metadata": {
        "id": "783nhLU0BYTH"
      }
    },
    {
      "cell_type": "code",
      "source": [
        "import statsmodels.api as sm\n",
        "\n",
        "old_conversion = df2.query('landing_page == \"old_page\"')['converted'].sum()\n",
        "new_conversion = df2.query('landing_page == \"new_page\"')['converted'].sum()\n",
        "n_old = df2.query('group == \"control\" & landing_page == \"old_page\"')['user_id'].nunique()\n",
        "n_new = df2.query('group == \"treatment\" &landing_page == \"new_page\"')['user_id'].nunique()"
      ],
      "metadata": {
        "colab": {
          "base_uri": "https://localhost:8080/"
        },
        "id": "5A18PXQNBcDp",
        "outputId": "3ac82b0c-b129-4bb9-9e28-48868ab37644"
      },
      "execution_count": 29,
      "outputs": [
        {
          "output_type": "stream",
          "name": "stderr",
          "text": [
            "/usr/local/lib/python3.7/dist-packages/statsmodels/tools/_testing.py:19: FutureWarning: pandas.util.testing is deprecated. Use the functions in the public API at pandas.testing instead.\n",
            "  import pandas.util.testing as tm\n"
          ]
        }
      ]
    },
    {
      "cell_type": "code",
      "source": [
        "counts = np.array([old_conversion, new_conversion])\n",
        "nobs = np.array([n_old, n_new])\n",
        "test= sm.stats.proportions_ztest(counts,nobs,alternative= 'smaller')\n",
        "print(\"z_test, p_value:\", test)"
      ],
      "metadata": {
        "colab": {
          "base_uri": "https://localhost:8080/"
        },
        "id": "duC6gMAcBfDs",
        "outputId": "cb38356a-a0c9-4b21-ea71-0eac8f72f5b0"
      },
      "execution_count": 30,
      "outputs": [
        {
          "output_type": "stream",
          "name": "stdout",
          "text": [
            "z_test, p_value: (1.3109241984234394, 0.9050583127590245)\n"
          ]
        }
      ]
    },
    {
      "cell_type": "markdown",
      "source": [
        "n. What do the z-score and p-value you computed in the previous question mean for the conversion rates of the old and new pages? Do they agree with the findings in parts j. and k.?"
      ],
      "metadata": {
        "id": "WfyPjK5nBiU_"
      }
    },
    {
      "cell_type": "markdown",
      "source": [
        "**While z-score is 0.1.311 to close to 0 indicates the data point's score is are too close to the mean score., and p-value of 0.5 indicates its not statistically significance.**"
      ],
      "metadata": {
        "id": "kQKajb8sBy7a"
      }
    },
    {
      "cell_type": "markdown",
      "source": [
        "# **Part III - A regression approach**"
      ],
      "metadata": {
        "id": "HuOSBQ8HB1HT"
      }
    },
    {
      "cell_type": "markdown",
      "source": [
        "1. In this final part, you will see that the result you achieved in the A/B test in Part II above can also be achieved by performing regression."
      ],
      "metadata": {
        "id": "JrUQ_X8mB3vk"
      }
    },
    {
      "cell_type": "markdown",
      "source": [
        "a. Since each row is either a conversion or no conversion, what type of regression should you be performing in this case?"
      ],
      "metadata": {
        "id": "K9J-BrtvB67l"
      }
    },
    {
      "cell_type": "markdown",
      "source": [
        "**Logistic regression.**"
      ],
      "metadata": {
        "id": "u8jCeRi0B8wt"
      }
    },
    {
      "cell_type": "markdown",
      "source": [
        "b. The goal is to use statsmodels to fit the regression model you specified in part a. to see if there is a significant difference in conversion based on which page a customer receives. However, you first need to create in df2 a column for the intercept, and create a dummy variable column for which page each user received. Add an intercept column, as well as an ab_page column, which is 1 when an individual receives the treatment and 0 if control."
      ],
      "metadata": {
        "id": "PCjeDOBpB9lr"
      }
    },
    {
      "cell_type": "code",
      "source": [
        "df2['intercept'] = 1\n",
        "df2['ab_page'] = pd.get_dummies(df2['group'])['treatment']"
      ],
      "metadata": {
        "id": "8cUQ04qLCD98"
      },
      "execution_count": 31,
      "outputs": []
    },
    {
      "cell_type": "markdown",
      "source": [
        "c. Use statsmodels to instantiate your regression model on the two columns you created in part b., then fit the model using the two columns you created in part b. to predict whether or not an individual converts."
      ],
      "metadata": {
        "id": "oBU9T3iQCCYH"
      }
    },
    {
      "cell_type": "code",
      "source": [
        "mod = sm.Logit(df2['converted'], df2[['intercept', 'ab_page']])"
      ],
      "metadata": {
        "id": "jcwJJMRJCPV5"
      },
      "execution_count": 32,
      "outputs": []
    },
    {
      "cell_type": "markdown",
      "source": [
        "d. Provide the summary of your model below, and use it as necessary to answer the following questions."
      ],
      "metadata": {
        "id": "aU5UGCKwCRqC"
      }
    },
    {
      "cell_type": "code",
      "source": [
        "results = mod.fit()\n",
        "results.summary2()"
      ],
      "metadata": {
        "colab": {
          "base_uri": "https://localhost:8080/",
          "height": 308
        },
        "id": "jp0y-w74CTAr",
        "outputId": "772869f3-2bca-46ec-dd1e-12bda0e4f1be"
      },
      "execution_count": 33,
      "outputs": [
        {
          "output_type": "stream",
          "name": "stdout",
          "text": [
            "Optimization terminated successfully.\n",
            "         Current function value: 0.366118\n",
            "         Iterations 6\n"
          ]
        },
        {
          "output_type": "execute_result",
          "data": {
            "text/plain": [
              "<class 'statsmodels.iolib.summary2.Summary'>\n",
              "\"\"\"\n",
              "                          Results: Logit\n",
              "==================================================================\n",
              "Model:              Logit            Pseudo R-squared: 0.000      \n",
              "Dependent Variable: converted        AIC:              212780.3502\n",
              "Date:               2022-07-26 05:44 BIC:              212801.5095\n",
              "No. Observations:   290584           Log-Likelihood:   -1.0639e+05\n",
              "Df Model:           1                LL-Null:          -1.0639e+05\n",
              "Df Residuals:       290582           LLR p-value:      0.18988    \n",
              "Converged:          1.0000           Scale:            1.0000     \n",
              "No. Iterations:     6.0000                                        \n",
              "-------------------------------------------------------------------\n",
              "              Coef.   Std.Err.      z      P>|z|    [0.025   0.975]\n",
              "-------------------------------------------------------------------\n",
              "intercept    -1.9888    0.0081  -246.6690  0.0000  -2.0046  -1.9730\n",
              "ab_page      -0.0150    0.0114    -1.3109  0.1899  -0.0374   0.0074\n",
              "==================================================================\n",
              "\n",
              "\"\"\""
            ],
            "text/html": [
              "<table class=\"simpletable\">\n",
              "<tr>\n",
              "        <td>Model:</td>              <td>Logit</td>      <td>Pseudo R-squared:</td>    <td>0.000</td>   \n",
              "</tr>\n",
              "<tr>\n",
              "  <td>Dependent Variable:</td>     <td>converted</td>          <td>AIC:</td>        <td>212780.3502</td>\n",
              "</tr>\n",
              "<tr>\n",
              "         <td>Date:</td>        <td>2022-07-26 05:44</td>       <td>BIC:</td>        <td>212801.5095</td>\n",
              "</tr>\n",
              "<tr>\n",
              "   <td>No. Observations:</td>       <td>290584</td>       <td>Log-Likelihood:</td>  <td>-1.0639e+05</td>\n",
              "</tr>\n",
              "<tr>\n",
              "       <td>Df Model:</td>              <td>1</td>            <td>LL-Null:</td>      <td>-1.0639e+05</td>\n",
              "</tr>\n",
              "<tr>\n",
              "     <td>Df Residuals:</td>         <td>290582</td>        <td>LLR p-value:</td>      <td>0.18988</td>  \n",
              "</tr>\n",
              "<tr>\n",
              "      <td>Converged:</td>           <td>1.0000</td>           <td>Scale:</td>         <td>1.0000</td>   \n",
              "</tr>\n",
              "<tr>\n",
              "    <td>No. Iterations:</td>        <td>6.0000</td>              <td></td>               <td></td>      \n",
              "</tr>\n",
              "</table>\n",
              "<table class=\"simpletable\">\n",
              "<tr>\n",
              "      <td></td>       <th>Coef.</th>  <th>Std.Err.</th>     <th>z</th>      <th>P>|z|</th> <th>[0.025</th>  <th>0.975]</th> \n",
              "</tr>\n",
              "<tr>\n",
              "  <th>intercept</th> <td>-1.9888</td>  <td>0.0081</td>  <td>-246.6690</td> <td>0.0000</td> <td>-2.0046</td> <td>-1.9730</td>\n",
              "</tr>\n",
              "<tr>\n",
              "  <th>ab_page</th>   <td>-0.0150</td>  <td>0.0114</td>   <td>-1.3109</td>  <td>0.1899</td> <td>-0.0374</td> <td>0.0074</td> \n",
              "</tr>\n",
              "</table>"
            ]
          },
          "metadata": {},
          "execution_count": 33
        }
      ]
    },
    {
      "cell_type": "markdown",
      "source": [
        "e. What is the p-value associated with ab_page? Why does it differ from the value you found in Part II?"
      ],
      "metadata": {
        "id": "_iRRXk_NCWvh"
      }
    },
    {
      "cell_type": "markdown",
      "source": [
        "**The p-value associated with ab_page is 0.1899,The null hypotheses there is no difference between control or treatment groups, and the alternative hypotheses there is difference between them.**"
      ],
      "metadata": {
        "id": "76p1heaNCYTF"
      }
    },
    {
      "cell_type": "markdown",
      "source": [
        "f. Now, you are considering other things that might influence whether or not an individual converts. Discuss why it is a good idea to consider other factors to add into your regression model. Are there any disadvantages to adding additional terms into your regression model?"
      ],
      "metadata": {
        "id": "bdm1SSAjCa9J"
      }
    },
    {
      "cell_type": "markdown",
      "source": [
        "Considering other facotrs to regression model may help us understand the relationships among the dataset, as well as understanding the correlation between dependant and independat variables, While there's a close relationship between three or more variables it's usually hard to detect,The coefficients might be poorly estimated, or inflated."
      ],
      "metadata": {
        "id": "UCCLk69dCZAh"
      }
    }
  ]
}